{
 "cells": [
  {
   "cell_type": "markdown",
   "id": "20290c66",
   "metadata": {},
   "source": [
    "# 1. Write a function to compute 5/0 and use try/except to catch the exceptions."
   ]
  },
  {
   "cell_type": "code",
   "execution_count": 7,
   "id": "18143d3d",
   "metadata": {},
   "outputs": [
    {
     "name": "stdout",
     "output_type": "stream",
     "text": [
      "ZeroDivisionError Exception\n"
     ]
    }
   ],
   "source": [
    "def divide():\n",
    "    return 5/0\n",
    "\n",
    "try:\n",
    "    divide()\n",
    "except ZeroDivisionError as ze:\n",
    "    print(\"ZeroDivisionError Exception\")\n"
   ]
  },
  {
   "cell_type": "markdown",
   "id": "05e330ee",
   "metadata": {},
   "source": [
    "# 2. Implement a Python program to generate all sentences where subject is in [\"Americans\", \"Indians\"] and verb is in [\"Play\", \"watch\"] and the object is in [\"Baseball\",\"cricket\"].\n"
   ]
  },
  {
   "cell_type": "code",
   "execution_count": 3,
   "id": "06a0a38b",
   "metadata": {},
   "outputs": [
    {
     "name": "stdout",
     "output_type": "stream",
     "text": [
      "Americans Play Baseball\n",
      "Americans Play cricket\n",
      "Americans watch Baseball\n",
      "Americans watch cricket\n",
      "Indians Play Baseball\n",
      "Indians Play cricket\n",
      "Indians watch Baseball\n",
      "Indians watch cricket\n"
     ]
    }
   ],
   "source": [
    "subject=[\"Americans\", \"Indians\"]\n",
    "verb=[\"Play\", \"watch\"]\n",
    "obj=[\"Baseball\",\"cricket\"]\n",
    "\n",
    "# Use list comprehension instead of looping over each of the predicates\n",
    "sentence_list = [(sub+\" \"+ vb + \" \" + ob) for sub in subject for vb in verb for ob in obj]\n",
    "for sentence in sentence_list:\n",
    "    print(sentence)"
   ]
  }
 ],
 "metadata": {
  "kernelspec": {
   "display_name": "Python 3 (ipykernel)",
   "language": "python",
   "name": "python3"
  },
  "language_info": {
   "codemirror_mode": {
    "name": "ipython",
    "version": 3
   },
   "file_extension": ".py",
   "mimetype": "text/x-python",
   "name": "python",
   "nbconvert_exporter": "python",
   "pygments_lexer": "ipython3",
   "version": "3.9.0"
  }
 },
 "nbformat": 4,
 "nbformat_minor": 5
}
