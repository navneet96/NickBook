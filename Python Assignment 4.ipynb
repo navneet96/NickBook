{
 "cells": [
  {
   "cell_type": "markdown",
   "id": "8270b37d",
   "metadata": {},
   "source": [
    "# 1.1 Write a Python Program(with class concepts) to find the area of the triangle using the below formula.                                                                          area = (s*(s-a)*(s-b)*(s-c)) ** 0.5                                                                               Function to take the length of the sides of triangle from user should be defined in the parent class and function to calculate the area should be defined in subclass.\n"
   ]
  },
  {
   "cell_type": "code",
   "execution_count": 12,
   "id": "39d26ccf",
   "metadata": {},
   "outputs": [
    {
     "name": "stdout",
     "output_type": "stream",
     "text": [
      "a=3\n",
      "b=4\n",
      "c=5\n",
      "area : 6.0\n"
     ]
    }
   ],
   "source": [
    "class Triangle:\n",
    "    def __init__(self,a,b,c):\n",
    "        self.a = float(a)\n",
    "        self.b = float(b)\n",
    "        self.c = float(c)\n",
    "\n",
    "class Triangle_side(Triangle):\n",
    "    def __init__(self,a,b,c):\n",
    "        super().__init__(a,b,c)\n",
    "\n",
    "    def get_area(self):\n",
    "        s = (a + b + c) / 2\n",
    "        return (s*(s-a)*(s-b)*(s-c)) ** 0.5        \n",
    "\n",
    "a= int(input(\"a=\"))\n",
    "b= int(input(\"b=\"))\n",
    "c= int(input(\"c=\"))\n",
    "t = Triangle_side(a,b,c)\n",
    "print(\"area : {}\".format(t.get_area()))"
   ]
  },
  {
   "cell_type": "markdown",
   "id": "58b056e5",
   "metadata": {},
   "source": [
    "# 1.2 Write a function filter_long_words() that takes a list of words and an integer n and returns the list of words that are longer than n."
   ]
  },
  {
   "cell_type": "code",
   "execution_count": 23,
   "id": "29638423",
   "metadata": {},
   "outputs": [
    {
     "name": "stdout",
     "output_type": "stream",
     "text": [
      "Please input the list of words: fnsfvfffv fv fxv xv v fv  vfcv df  sf cs cs csc sc s  csc scscscsf cc sc sdc sc s\n",
      "Integer 3\n",
      "['fnsfvfffv', 'vfcv', 'scscscsf']\n"
     ]
    }
   ],
   "source": [
    "def filter_long_word(string,number):\n",
    "    listwords = []\n",
    "    for i in range(len(string)):\n",
    "        if len(string[i]) > number:\n",
    "            listwords.append(string[i])\n",
    "    return listwords\n",
    "words = input(\"Please input the list of words: \").split()\n",
    "n = int(input(\"Integer \"))\n",
    "print(filter_long_word(words,n))"
   ]
  },
  {
   "cell_type": "code",
   "execution_count": 21,
   "id": "13e0cff3",
   "metadata": {},
   "outputs": [
    {
     "name": "stdout",
     "output_type": "stream",
     "text": [
      "Please input the list of words: dd cdc dcd cd vf vf vfv fv gb gb gf vbf vcvf v \n",
      "Integer 2\n",
      "['cdc', 'dcd', 'vfv', 'vbf', 'vcvf']\n"
     ]
    }
   ],
   "source": [
    "#using list Comprihension\n",
    "\n",
    "def filter_long_word(string,number):\n",
    "    return [word for word in string if len(word) > number]\n",
    "words = input(\"Please input the list of words: \").split()\n",
    "n = int(input(\"Integer \"))\n",
    "print(filter_long_word(words,n))"
   ]
  },
  {
   "cell_type": "markdown",
   "id": "0434e4bb",
   "metadata": {},
   "source": [
    "# 2.1 Write a Python program using function concept that maps list of words into a list of integers representing the lengths of the corresponding words. Hint: If a list [ ab,cde,erty] is passed on to the python function output should come as [2,3,4] Here 2,3 and 4 are the lengths of the words in the list."
   ]
  },
  {
   "cell_type": "code",
   "execution_count": 31,
   "id": "40f73b34",
   "metadata": {},
   "outputs": [
    {
     "name": "stdout",
     "output_type": "stream",
     "text": [
      "Enter words = e,re,re,re,re,r\n",
      "[1, 2, 2, 2, 2, 1]\n"
     ]
    }
   ],
   "source": [
    "def count_word(l1):\n",
    "    return list(map(len,list1))\n",
    "\n",
    "list1 = list(input(\"Enter words spaerated by comma = \").split(\",\"))\n",
    "print(count_word(list1))\n",
    "\n",
    "    "
   ]
  },
  {
   "cell_type": "markdown",
   "id": "4fec0269",
   "metadata": {},
   "source": [
    "# Write a Python function which takes a character (i.e. a string of length 1) and returns True if it is a vowel, False otherwise"
   ]
  },
  {
   "cell_type": "code",
   "execution_count": 36,
   "id": "646c0796",
   "metadata": {},
   "outputs": [
    {
     "name": "stdout",
     "output_type": "stream",
     "text": [
      "Eeter any character = u\n",
      "True\n"
     ]
    }
   ],
   "source": [
    "def vowel_check(ch):\n",
    "    if(len(ch)==1):\n",
    "        vowel = ['a','e','i','o','u']\n",
    "        if(ch.lower() in vowel):\n",
    "            return True\n",
    "        else:\n",
    "            return False\n",
    "        \n",
    "char = input(\"Eeter any character = \")\n",
    "print(vowel_check(char))\n",
    "\n",
    "\n",
    "        "
   ]
  },
  {
   "cell_type": "code",
   "execution_count": null,
   "id": "0494faca",
   "metadata": {},
   "outputs": [],
   "source": []
  }
 ],
 "metadata": {
  "kernelspec": {
   "display_name": "Python 3 (ipykernel)",
   "language": "python",
   "name": "python3"
  },
  "language_info": {
   "codemirror_mode": {
    "name": "ipython",
    "version": 3
   },
   "file_extension": ".py",
   "mimetype": "text/x-python",
   "name": "python",
   "nbconvert_exporter": "python",
   "pygments_lexer": "ipython3",
   "version": "3.9.0"
  }
 },
 "nbformat": 4,
 "nbformat_minor": 5
}
