{
 "cells": [
  {
   "cell_type": "markdown",
   "id": "fd053df0",
   "metadata": {},
   "source": [
    "# 1.1 Write a Python Program to implement your own myreduce() function which works exactly like Python's built-in function reduce()\n"
   ]
  },
  {
   "cell_type": "code",
   "execution_count": 1,
   "id": "0a7c25d0",
   "metadata": {},
   "outputs": [
    {
     "name": "stdout",
     "output_type": "stream",
     "text": [
      "Enter the number of element 3\n",
      "Enter a element separated by space 1 1 2\n",
      "Calculating sum of element of input list\n",
      "Sum =  4\n"
     ]
    }
   ],
   "source": [
    "def myreduce(n):\n",
    "    \n",
    "    print(\"Calculating sum of element of input list\")\n",
    "    sum = 0\n",
    "    for i in n:\n",
    "        sum += int(i)\n",
    "    return sum\n",
    "        \n",
    "num = int(input(\"Enter the number of element \"))\n",
    "list1 = input(\"Enter a element separated by space \").split()\n",
    "total = myreduce(list1)\n",
    "print(\"Sum = \",total)"
   ]
  },
  {
   "cell_type": "code",
   "execution_count": 2,
   "id": "e2ef751b",
   "metadata": {},
   "outputs": [
    {
     "name": "stdout",
     "output_type": "stream",
     "text": [
      "The sum of the list elements is : 17\n"
     ]
    }
   ],
   "source": [
    "import functools\n",
    "# initializing list\n",
    "lis = [1, 3, 5, 6, 2, ]\n",
    "# using reduce to compute sum of list\n",
    "print(\"The sum of the list elements is : \", end=\"\")\n",
    "print(functools.reduce(lambda a, b: a+b, lis))"
   ]
  },
  {
   "cell_type": "markdown",
   "id": "eacae7b6",
   "metadata": {},
   "source": [
    "# 1.2 Write a Python program to implement your own myfilter() function which works exactly like Python's built-in function filter()"
   ]
  },
  {
   "cell_type": "code",
   "execution_count": 3,
   "id": "b66b0f8d",
   "metadata": {},
   "outputs": [
    {
     "name": "stdout",
     "output_type": "stream",
     "text": [
      "Even numbers in the list:  [10, 4, 66]\n",
      "Odd numbers in the list:  [21, 45, 93, 1]\n"
     ]
    }
   ],
   "source": [
    "def myfilter(n):\n",
    "    even = []\n",
    "    odd = []\n",
    "    for num in n:\n",
    "        if num % 2 == 0:\n",
    "            even.append(num)  \n",
    "        else:\n",
    "            odd.append(num)\n",
    "    return [even,odd]\n",
    "\n",
    "list1 = [10, 21, 4, 45, 66, 93, 1]\n",
    "list = myfilter(list1)         \n",
    "print(\"Even numbers in the list: \", list[0])\n",
    "print(\"Odd numbers in the list: \", list[1])"
   ]
  },
  {
   "cell_type": "code",
   "execution_count": 11,
   "id": "6a5aa20d",
   "metadata": {},
   "outputs": [
    {
     "name": "stdout",
     "output_type": "stream",
     "text": [
      "Enter the number of element 6\n",
      "Enter a element separated by space 15 256 69 45 64 65\n",
      "Even numbers in the list:  [256, 64]\n",
      "Odd numbers in the list:  [15, 69, 45, 65]\n"
     ]
    }
   ],
   "source": [
    "def myfilter(n):\n",
    "    even = []\n",
    "    odd = []\n",
    "    for num in n:\n",
    "        if num % 2 == 0:\n",
    "            even.append(num)  \n",
    "        else:\n",
    "            odd.append(num)\n",
    "    return [even,odd]\n",
    "\n",
    "#list1 = [10, 21, 4, 45, 66, 93, 1]\n",
    "num = int(input(\"Enter the number of element \"))\n",
    "list1 = input(\"Enter a element separated by space \").split()\n",
    "for i in range(0, len(list1)):\n",
    "    list1[i] = int(list1[i])\n",
    "list = myfilter(list1)         \n",
    "print(\"Even numbers in the list: \", list[0])\n",
    "print(\"Odd numbers in the list: \", list[1])"
   ]
  },
  {
   "cell_type": "markdown",
   "id": "cc8d93ca",
   "metadata": {},
   "source": [
    "# 2. Implement List comprehensions to produce the following lists. Write List comprehensions to produce the following Lists\n"
   ]
  },
  {
   "cell_type": "code",
   "execution_count": 63,
   "id": "7f9ed87b",
   "metadata": {},
   "outputs": [
    {
     "name": "stdout",
     "output_type": "stream",
     "text": [
      "['x', 'xx', 'xxx', 'xxxx', 'y', 'yy', 'yyy', 'yyyy', 'z', 'zz', 'zzz', 'zzzz']\n",
      "['x', 'y', 'z', 'xx', 'yy', 'zz', 'xxx', 'yyy', 'zzz', 'xxxx', 'yyyy', 'zzzz']\n",
      "[[2], [3], [4], [3], [4], [5], [4], [5], [6]]\n",
      "[[2, 3, 4, 5], [3, 4, 5, 6], [4, 5, 6, 7], [5, 6, 7, 8]]\n",
      "[(1, 1), (2, 1), (3, 1), (1, 2), (2, 2), (3, 2), (1, 3), (2, 3), (3, 3)]\n"
     ]
    }
   ],
   "source": [
    "list1 = [ i*j for i in ['x','y','z'] for j in range(1,5) ]\n",
    "list2 = [ i*j for j in range(1,5) for i in ['x','y','z']  ]\n",
    "list3 = [[i+j] for i in range(2,5) for j in range(0,3)]\n",
    "list4 = [[j+i for j in range(2,6)] for i in range(4)]\n",
    "list5 = [(j,i) for i in range(1,4) for j in range(1,4)]\n",
    "print(str(list1))\n",
    "print(str(list2))\n",
    "print(list3)\n",
    "print(list4)\n",
    "print(list5)"
   ]
  }
 ],
 "metadata": {
  "kernelspec": {
   "display_name": "Python 3 (ipykernel)",
   "language": "python",
   "name": "python3"
  },
  "language_info": {
   "codemirror_mode": {
    "name": "ipython",
    "version": 3
   },
   "file_extension": ".py",
   "mimetype": "text/x-python",
   "name": "python",
   "nbconvert_exporter": "python",
   "pygments_lexer": "ipython3",
   "version": "3.9.0"
  }
 },
 "nbformat": 4,
 "nbformat_minor": 5
}
